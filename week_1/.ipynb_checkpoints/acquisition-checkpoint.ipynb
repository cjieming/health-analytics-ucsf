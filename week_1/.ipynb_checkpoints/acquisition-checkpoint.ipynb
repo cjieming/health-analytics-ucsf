{
 "cells": [
  {
   "cell_type": "markdown",
   "metadata": {},
   "source": [
    "# Data Analytics in Healthcare\n",
    "\n",
    "## Week 1 - Data Aquisition\n",
    "\n",
    "Objectives: \n",
    "\n",
    "- Learn to get data from an API\n",
    "- Use a scrapy spider to crawl a website\n",
    "- Use Pandas to format JSON"
   ]
  },
  {
   "cell_type": "code",
   "execution_count": 128,
   "metadata": {
    "collapsed": false
   },
   "outputs": [],
   "source": [
    "import scrapy\n",
    "import requests\n",
    "import pandas as pd\n",
    "from pprint import pprint\n",
    "import json"
   ]
  },
  {
   "cell_type": "code",
   "execution_count": 129,
   "metadata": {
    "collapsed": false
   },
   "outputs": [],
   "source": [
    "def get_response_json(api_root, api_args):\n",
    "    \"\"\"\n",
    "    \n",
    "    \"\"\"\n",
    "    return requests.get(api_root + api_args).json()\n",
    "\n",
    "def print_response(response):\n",
    "    print(\"Hi\")\n",
    "    data = json.loads(response.body)\n",
    "    return(data[:100])"
   ]
  },
  {
   "cell_type": "code",
   "execution_count": 130,
   "metadata": {
    "collapsed": false
   },
   "outputs": [],
   "source": [
    "# r = scrapy.Request(url='http://quotes.toscrape.com/page/1/', callback=print_response)\n",
    "# print(r.body)"
   ]
  },
  {
   "cell_type": "code",
   "execution_count": 131,
   "metadata": {
    "collapsed": true
   },
   "outputs": [],
   "source": [
    "class TrialsSpider(scrapy.Spider):\n",
    "    name = \"trials\"\n",
    "\n",
    "    def start_requests(self):\n",
    "        response_json = get_response_json(api_args='clinical-trials?eligibility.structured.gender=male&include=nct_id')\n",
    "        df = pd.io.json.json_normalize(response_json['trials'])\n",
    "        url_root = \"https://clinicaltrialsapi.cancer.gov/v1/\n",
    "        urls = [url_root + \"clinical-trial/\" + trial_id for trial_id in df.nct_id]\n",
    "        for url in urls:\n",
    "            yield scrapy.Request(url=url, callback=self.parse)\n",
    "\n",
    "    def parse(self, response):\n",
    "        page = response.url.split(\"/\")[-1]\n",
    "        filename = 'trial-%s.html' % page\n",
    "        with open(filename, 'wb') as f:\n",
    "            f.write(response.body)\n",
    "        self.log('Saved file %s' % filename)"
   ]
  },
  {
   "cell_type": "code",
   "execution_count": 132,
   "metadata": {
    "collapsed": false
   },
   "outputs": [],
   "source": [
    "# response_json = get_response_json()\n",
    "# # print(response_json)\n",
    "# df = pd.io.json.json_normalize(response_json)"
   ]
  },
  {
   "cell_type": "code",
   "execution_count": 133,
   "metadata": {
    "collapsed": false
   },
   "outputs": [],
   "source": [
    "# pprint(response_json)"
   ]
  },
  {
   "cell_type": "code",
   "execution_count": 134,
   "metadata": {
    "collapsed": false
   },
   "outputs": [],
   "source": [
    "# response_json['anatomic_sites']"
   ]
  },
  {
   "cell_type": "code",
   "execution_count": 135,
   "metadata": {
    "collapsed": false
   },
   "outputs": [],
   "source": [
    "# for column in df.columns:\n",
    "#     print(column, df[column].dtype)\n",
    "# #     print(df[column][0])"
   ]
  },
  {
   "cell_type": "code",
   "execution_count": 136,
   "metadata": {
    "collapsed": false
   },
   "outputs": [],
   "source": [
    "# df.head()"
   ]
  },
  {
   "cell_type": "code",
   "execution_count": 137,
   "metadata": {
    "collapsed": false
   },
   "outputs": [],
   "source": [
    "# # df_sites = pd.io.json.json_normalize(df.sites[0])\n",
    "# df_eligibility = pd.io.json.json_normalize(df[\"eligibility.unstructured\"][0])\n",
    "# df_diseases = pd.io.json.json_normalize(df[\"diseases\"][0])\n",
    "# df_arms = pd.io.json.json_normalize(df[\"arms\"][0])\n",
    "\n",
    "# df.drop([\"sites\", \"eligibility.unstructured\", \"diseases\"], inplace=True, axis=1)"
   ]
  },
  {
   "cell_type": "code",
   "execution_count": 138,
   "metadata": {
    "collapsed": false
   },
   "outputs": [],
   "source": [
    "# df_arms"
   ]
  },
  {
   "cell_type": "code",
   "execution_count": 139,
   "metadata": {
    "collapsed": false
   },
   "outputs": [],
   "source": [
    "# for column in df.columns:\n",
    "#     print(column, df[column].dtype)\n",
    "#     print(df[column][0])"
   ]
  },
  {
   "cell_type": "code",
   "execution_count": 140,
   "metadata": {
    "collapsed": false
   },
   "outputs": [],
   "source": [
    "# df_eligibility"
   ]
  },
  {
   "cell_type": "code",
   "execution_count": 141,
   "metadata": {
    "collapsed": false
   },
   "outputs": [],
   "source": [
    "# df_diseases.head(20)"
   ]
  },
  {
   "cell_type": "code",
   "execution_count": 142,
   "metadata": {
    "collapsed": false
   },
   "outputs": [],
   "source": [
    "\n",
    "# print(response_json['trials'])"
   ]
  },
  {
   "cell_type": "code",
   "execution_count": 143,
   "metadata": {
    "collapsed": false
   },
   "outputs": [],
   "source": [
    "# df = pd.io.json.json_normalize(response_json['trials'])"
   ]
  },
  {
   "cell_type": "code",
   "execution_count": 144,
   "metadata": {
    "collapsed": false
   },
   "outputs": [],
   "source": [
    "# for trial_id in df.nct_id:\n",
    "#     print(get_response_json(api_args=\"clinical-trial/\" + trial_id))"
   ]
  },
  {
   "cell_type": "code",
   "execution_count": null,
   "metadata": {
    "collapsed": true
   },
   "outputs": [],
   "source": []
  }
 ],
 "metadata": {
  "anaconda-cloud": {},
  "kernelspec": {
   "display_name": "Python [conda root]",
   "language": "python",
   "name": "conda-root-py"
  },
  "language_info": {
   "codemirror_mode": {
    "name": "ipython",
    "version": 3
   },
   "file_extension": ".py",
   "mimetype": "text/x-python",
   "name": "python",
   "nbconvert_exporter": "python",
   "pygments_lexer": "ipython3",
   "version": "3.5.2"
  }
 },
 "nbformat": 4,
 "nbformat_minor": 1
}
