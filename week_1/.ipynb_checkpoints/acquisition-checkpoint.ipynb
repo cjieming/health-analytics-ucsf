{
 "cells": [
  {
   "cell_type": "markdown",
   "metadata": {},
   "source": [
    "# Data Analytics in Healthcare\n",
    "\n",
    "## Week 1 - Data Aquisition\n",
    "\n",
    "Objectives: \n",
    "\n",
    "- Learn to get data from an API\n",
    "- Use a scrapy spider to crawl a website\n",
    "- Use Pandas to format JSON"
   ]
  },
  {
   "cell_type": "code",
   "execution_count": 128,
   "metadata": {
    "collapsed": true
   },
   "outputs": [],
   "source": [
    "import scrapy\n",
    "import requests\n",
    "import pandas as pd\n",
    "from pprint import pprint\n",
    "import json"
   ]
  },
  {
   "cell_type": "markdown",
   "metadata": {
    "collapsed": true
   },
   "source": [
    "#### Intro to JSON (from [this link](https://www.digitalocean.com/community/tutorials/an-introduction-to-json))\n",
    "\n",
    "“JSON” stands for “JavaScript Object Notation”. It’s a lightweight, text-based format, and is frequently used in conjunction with REST APIs and web-based services. You can find more details on the specifics of the JSON format at the JSON web site.\n",
    "\n",
    "The basic structures of JSON are:\n",
    "\n",
    "* A set of name/value pairs\n",
    "\n",
    "* An ordered list of values\n",
    "\n",
    "A JSON object is a key-value data format that is typically rendered in curly braces. When you’re working with JSON, you’ll likely see JSON objects in a .json file, but they can also exist as a JSON object or string within the context of a program.\n",
    "\n",
    "A JSON object looks something like this\n",
    "\n",
    "\n",
    "```\n",
    "{\n",
    "  \"first_name\" : \"Sammy\",\n",
    "  \"last_name\" : \"Shark\",\n",
    "  \"location\" : \"Ocean\",\n",
    "  \"online\" : true,\n",
    "  \"followers\" : 987 \n",
    "}\n",
    "```\n",
    "JSON can store nested objects in JSON format in addition to nested arrays. These objects and arrays will be passed as values assigned to keys, and typically will be comprised of key-value pairs as well.\n",
    "\n",
    "Nested Objects\n",
    "\n",
    "In the users.json file below, for each of the four users (\"sammy\", \"jesse\", \"drew\", \"jamie\") there is a nested JSON object passed as the value for each of the users, with its own nested keys of \"username\" and \"location\" that relate to each of the users. The first nested JSON object is highlighted below.\n",
    "\n",
    "```\n",
    "{ \n",
    "  \"sammy\" : {\n",
    "    \"username\"  : \"SammyShark\",\n",
    "    \"location\"  : \"Indian Ocean\",\n",
    "    \"online\"    : true,\n",
    "    \"followers\" : 987\n",
    "  },\n",
    "  \"jesse\" : {\n",
    "    \"username\"  : \"JesseOctopus\",\n",
    "    \"location\"  : \"Pacific Ocean\",\n",
    "    \"online\"    : false,\n",
    "    \"followers\" : 432\n",
    "  },\n",
    "  \"drew\" : {\n",
    "    \"username\"  : \"DrewSquid\",\n",
    "    \"location\"  : \"Atlantic Ocean\",\n",
    "    \"online\"    : false,\n",
    "    \"followers\" : 321\n",
    "  },\n",
    "  \"jamie\" : {\n",
    "    \"username\"  : \"JamieMantisShrimp\",\n",
    "    \"location\"  : \"Pacific Ocean\",\n",
    "    \"online\"    : true,\n",
    "    \"followers\" : 654\n",
    "  }\n",
    "}\n",
    "```\n",
    "\n",
    "In the example above, curly braces are used throughout to form a nested JSON object with associated username and location data for each of four users. Just like any other value, when using objects, commas are used to separate elements.\n",
    "\n",
    "Nested Arrays\n",
    "\n",
    "Data can also be nested within the JSON format by using JavaScript arrays that are passed as a value. JavaScript uses square brackets [ ] on either end of its array type. Arrays are ordered collections and can contain values of differing data types.\n",
    "\n",
    "We may use an array when we are dealing with a lot of data that can be easily grouped together, like when there are various websites and social media profiles associated with a single user.\n",
    "\n",
    "With the first nested array highlighted, a user profile for Sammy may look like this:\n",
    "\n",
    "```\n",
    "{ \n",
    "  \"first_name\" : \"Sammy\",\n",
    "  \"last_name\" : \"Shark\",\n",
    "  \"location\" : \"Ocean\",\n",
    "  \"websites\" : [ \n",
    "    {\n",
    "      \"description\" : \"work\",\n",
    "      \"URL\" : \"https://www.digitalocean.com/\"\n",
    "    },\n",
    "    {\n",
    "      \"desciption\" : \"tutorials\",\n",
    "      \"URL\" : \"https://www.digitalocean.com/community/tutorials\"\n",
    "    }\n",
    "  ],\n",
    "  \"social_media\" : [\n",
    "    {\n",
    "      \"description\" : \"twitter\",\n",
    "      \"link\" : \"https://twitter.com/digitalocean\"\n",
    "    },\n",
    "    {\n",
    "      \"description\" : \"facebook\",\n",
    "      \"link\" : \"https://www.facebook.com/DigitalOceanCloudHosting\"\n",
    "    },\n",
    "    {\n",
    "      \"description\" : \"github\",\n",
    "      \"link\" : \"https://github.com/digitalocean\"\n",
    "    }\n",
    "  ]\n",
    "}\n",
    "```"
   ]
  },
  {
   "cell_type": "markdown",
   "metadata": {},
   "source": [
    "### 1. Get the the data from from the API \n",
    "\n",
    "Go the the website https://clinicaltrialsapi.cancer.gov/v1/ and explore the API. Download data from the trial given as an example (NCT02194738) and view the data. The function given to you used the GET function from the requests library in Python. pprint will allow you to view the JSON in a formatted manner. Be careful, these responses can be large!"
   ]
  },
  {
   "cell_type": "code",
   "execution_count": 1,
   "metadata": {
    "collapsed": true
   },
   "outputs": [],
   "source": [
    "def get_response_json(api_args, api_root=\"https://clinicaltrialsapi.cancer.gov/v1/\"):\n",
    "    \"\"\"\n",
    "    This function returns the json of a GET response\n",
    "    \n",
    "    arguments:\n",
    "    api_root -- str, the root website of the API\n",
    "    api_args -- str, the arguements to the API\n",
    "    \n",
    "    returns\n",
    "    json response, str\n",
    "    \"\"\"\n",
    "    return requests.get(api_root + api_args).json()"
   ]
  },
  {
   "cell_type": "code",
   "execution_count": 130,
   "metadata": {
    "collapsed": true
   },
   "outputs": [],
   "source": []
  },
  {
   "cell_type": "code",
   "execution_count": null,
   "metadata": {
    "collapsed": true
   },
   "outputs": [],
   "source": []
  },
  {
   "cell_type": "markdown",
   "metadata": {},
   "source": [
    "### 2. Query the API using arguments\n",
    "\n",
    "Read the documentation for the API on the website, and retrieve the data to get all trial IDs for all trials in NY where the eligibility criteria was restricted to women and whose primary purpose was basic science."
   ]
  },
  {
   "cell_type": "code",
   "execution_count": null,
   "metadata": {
    "collapsed": true
   },
   "outputs": [],
   "source": []
  },
  {
   "cell_type": "markdown",
   "metadata": {},
   "source": [
    "### 3. Structure the JSON data\n",
    "\n",
    "Pandas is a very useful python library that allows you to view data in tabular form. It is very good (and fast!) for viewing CSV file and even connecting to databases. For this exercise, we shall use it to structure the JSON data in a more readable format.\n",
    "\n",
    "Hint: use the function:\n",
    "\n",
    "```pd.io.json.json_normalize()``` \n",
    "\n",
    "(This will help it to read data from nested JSON files i.e. where dictionaries and lists are embedded within others)."
   ]
  },
  {
   "cell_type": "code",
   "execution_count": null,
   "metadata": {
    "collapsed": true
   },
   "outputs": [],
   "source": []
  },
  {
   "cell_type": "markdown",
   "metadata": {},
   "source": [
    "### 4. Scrape Data using a spider\n",
    "\n",
    "In this part, we shall use Scrapy (another python library) to create a \"Spider\" to crawl the websites to gather data.\n",
    "Scrapy documentation has a nice tutorial to get started at https://doc.scrapy.org/en/latest/intro/tutorial.html. We shall be modifying the code here for our purpose.\n",
    "\n",
    "To get started you can type \"!scrapy startproject tutorial\" in a new cell. This allows you to run command line arguements from within Jupyter, which can often be handy. The command will create a directory structure that can be used by your Scrapy commands.\n",
    "\n",
    "The code from the tutorial is below:\n",
    "\n",
    "Your objective are:\n",
    "\n",
    "1. Create a meaningful query (use the query from Part 2, if nothing comes to mind) to get data from the API\n",
    "2. Then get ALL the data from the trials retrieved by your query, and save them in individual files.\n",
    "\n",
    "Be sure to change the name of the variable as well the class to something meaninful, and use \"scrapy _spiderName_\" from the command line to run the spider."
   ]
  },
  {
   "cell_type": "code",
   "execution_count": 131,
   "metadata": {
    "collapsed": true
   },
   "outputs": [],
   "source": [
    "class QuotesSpider(scrapy.Spider):\n",
    "    name = \"quotes\"\n",
    "\n",
    "    def start_requests(self):\n",
    "        urls = [\n",
    "            'http://quotes.toscrape.com/page/1/',\n",
    "            'http://quotes.toscrape.com/page/2/',\n",
    "        ]\n",
    "        for url in urls:\n",
    "            yield scrapy.Request(url=url, callback=self.parse)\n",
    "\n",
    "    def parse(self, response):\n",
    "        page = response.url.split(\"/\")[-2]\n",
    "        filename = 'quotes-%s.html' % page\n",
    "        with open(filename, 'wb') as f:\n",
    "            f.write(response.body)\n",
    "        self.log('Saved file %s' % filename)"
   ]
  },
  {
   "cell_type": "markdown",
   "metadata": {},
   "source": [
    " - METAL https://github.com/Kitware/MetaIO\n",
    " - DICOM – Waveform An extension of Dicom for storing waveform data\n",
    " - European Data Format (.edf, .rec)\n",
    " - CSV (.csv),XML,TXT\n",
    " - ecgML – A markup language for electrocardiogram data acquisition and analysis.\n",
    " - EDF/EDF+ – European Data Format.\n",
    " - FEF – File Exchange Format for Vital signs, CEN TS 14271.\n",
    " - GDF v1.x – The General Data Format for biomedical signals – Version 1.x.\n",
    " - GDF v2.x – The General Data Format for biomedical signals – Version 2.x.\n",
    " - HL7aECG – Health Level 7 v3 annotated ECG.\n",
    " - MFER – Medical waveform Format Encoding Rules\n",
    " - OpenXDF – Open Exchange Data Format\n",
    " - TDMS (.tdms)\n",
    " - LVM (.lvm)\n",
    " - SCP-ECG – Standard Communication Protocol for Computer assisted electrocardiography EN1064:2007,\n",
    " - SIGIF – A digital SIGnal Interchange Format with application in neurophysiology.\n",
    " - WFDB – Format of Physiobank"
   ]
  }
 ],
 "metadata": {
  "anaconda-cloud": {},
  "kernelspec": {
   "display_name": "Python [conda root]",
   "language": "python",
   "name": "conda-root-py"
  },
  "language_info": {
   "codemirror_mode": {
    "name": "ipython",
    "version": 3
   },
   "file_extension": ".py",
   "mimetype": "text/x-python",
   "name": "python",
   "nbconvert_exporter": "python",
   "pygments_lexer": "ipython3",
   "version": "3.5.2"
  }
 },
 "nbformat": 4,
 "nbformat_minor": 1
}
