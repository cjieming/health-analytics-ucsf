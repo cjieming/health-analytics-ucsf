{
 "cells": [
  {
   "cell_type": "markdown",
   "metadata": {
    "collapsed": true
   },
   "source": [
    "# Data Analytics in Healthcare\n",
    "\n",
    "## Week 2 - Data Manipulation\n",
    "\n",
    "Objectives: \n",
    "\n",
    "- Structure data and save as CSV\n",
    "- Read and write data to a database\n",
    "- Use SQL to manipulate data"
   ]
  },
  {
   "cell_type": "code",
   "execution_count": 5,
   "metadata": {
    "collapsed": true
   },
   "outputs": [],
   "source": [
    "import pandas as pd\n",
    "import csv\n",
    "from sqlalchemy import create_engine, MetaData"
   ]
  },
  {
   "cell_type": "markdown",
   "metadata": {},
   "source": [
    "### 1. Gather the data from the various JSON files\n",
    "\n",
    "Get the data from the different data files in a tablular format such as: \n",
    "\n",
    "Trial_ID | JSON_data \n",
    "--- | ---\n",
    "ID | Data\n",
    "\n"
   ]
  },
  {
   "cell_type": "code",
   "execution_count": 6,
   "metadata": {},
   "outputs": [],
   "source": [
    "engine = create_engine(r'postgresql://sayan:postgres@lw/clinicaltrials')"
   ]
  },
  {
   "cell_type": "markdown",
   "metadata": {
    "collapsed": true
   },
   "source": [
    "## 2. Create Database and Tables\n",
    "\n",
    "Create a database called \"clinicaltrials\" using the following command:\n",
    "\n",
    "```\n",
    "    createdb mydb\n",
    "```\n",
    "\n",
    "To create a table in the database, follow the following syntax:\n",
    "\n",
    "```\n",
    "CREATE TABLE weather (\n",
    "    city            varchar(80),\n",
    "    temp_lo         int,           -- low temperature\n",
    "    temp_hi         int,           -- high temperature\n",
    "    prcp            real,          -- precipitation\n",
    "    date            date\n",
    ");\n",
    "```\n",
    "\n",
    "Note that every query must be terminated with a \";\""
   ]
  },
  {
   "cell_type": "code",
   "execution_count": null,
   "metadata": {
    "collapsed": true
   },
   "outputs": [],
   "source": []
  }
 ],
 "metadata": {
  "anaconda-cloud": {},
  "kernelspec": {
   "display_name": "Python [conda root]",
   "language": "python",
   "name": "conda-root-py"
  },
  "language_info": {
   "codemirror_mode": {
    "name": "ipython",
    "version": 3
   },
   "file_extension": ".py",
   "mimetype": "text/x-python",
   "name": "python",
   "nbconvert_exporter": "python",
   "pygments_lexer": "ipython3",
   "version": "3.5.2"
  }
 },
 "nbformat": 4,
 "nbformat_minor": 1
}
